{
 "cells": [
  {
   "cell_type": "code",
   "execution_count": 1,
   "metadata": {},
   "outputs": [],
   "source": [
    "import pandas as pd\n",
    "from sklearn.model_selection import train_test_split\n",
    "from transformers import BertTokenizer, TFBertForSequenceClassification\n",
    "import tensorflow as tf\n",
    "import numpy as np\n",
    "\n",
    "# Load the data from \"merged_training.pkl\"\n",
    "df = pd.read_pickle(\"merged_training.pkl\")\n",
    "\n",
    "# Encode the emotion labels using LabelEncoder\n",
    "from sklearn.preprocessing import LabelEncoder\n",
    "label_encoder = LabelEncoder()\n",
    "df['emotions_encoded'] = label_encoder.fit_transform(df['emotions'])\n",
    "\n",
    "# Split the data into train and test sets\n",
    "X = df['text']\n",
    "y = df['emotions_encoded']\n",
    "X_train, X_test, y_train, y_test = train_test_split(X, y, test_size=0.2, random_state=42)\n",
    "\n",
    "# Define the list of emotion labels for later decoding\n",
    "emotions = list(label_encoder.classes_)"
   ]
  },
  {
   "cell_type": "code",
   "execution_count": 2,
   "metadata": {},
   "outputs": [
    {
     "name": "stdout",
     "output_type": "stream",
     "text": [
      "Epoch 1/3\n",
      "10421/10421 [==============================] - 2526s 242ms/step - loss: 0.1722 - accuracy: 0.9166\n",
      "Epoch 2/3\n",
      "10421/10421 [==============================] - 2497s 240ms/step - loss: 0.1221 - accuracy: 0.9332\n",
      "Epoch 3/3\n",
      "10421/10421 [==============================] - 2635s 253ms/step - loss: 0.1130 - accuracy: 0.9362\n"
     ]
    },
    {
     "data": {
      "text/plain": [
       "<keras.src.callbacks.History at 0x1880f417c90>"
      ]
     },
     "execution_count": 2,
     "metadata": {},
     "output_type": "execute_result"
    }
   ],
   "source": [
    "from tensorflow.keras.preprocessing.text import Tokenizer\n",
    "from tensorflow.keras.preprocessing.sequence import pad_sequences\n",
    "from tensorflow.keras.models import Sequential\n",
    "from tensorflow.keras.layers import Embedding, Conv1D, GlobalMaxPooling1D, Dense\n",
    "\n",
    "# Tokenize and preprocess text\n",
    "tokenizer_cnn = Tokenizer()\n",
    "tokenizer_cnn.fit_on_texts(X_train)\n",
    "X_train_sequences_cnn = tokenizer_cnn.texts_to_sequences(X_train)\n",
    "X_test_sequences_cnn = tokenizer_cnn.texts_to_sequences(X_test)\n",
    "X_train_padded_cnn = pad_sequences(X_train_sequences_cnn, padding='post')\n",
    "X_test_padded_cnn = pad_sequences(X_test_sequences_cnn, padding='post')\n",
    "\n",
    "# Create and train the CNN model\n",
    "cnn_model = Sequential()\n",
    "cnn_model.add(Embedding(input_dim=len(tokenizer_cnn.word_index) + 1, output_dim=100, input_length=X_train_padded_cnn.shape[1]))\n",
    "cnn_model.add(Conv1D(128, 5, activation='relu'))\n",
    "cnn_model.add(GlobalMaxPooling1D())\n",
    "cnn_model.add(Dense(len(emotions), activation='softmax'))\n",
    "cnn_model.compile(optimizer='adam', loss='sparse_categorical_crossentropy', metrics=['accuracy'])\n",
    "cnn_model.fit(X_train_padded_cnn, y_train, epochs=3)\n"
   ]
  },
  {
   "cell_type": "code",
   "execution_count": 5,
   "metadata": {},
   "outputs": [
    {
     "name": "stdout",
     "output_type": "stream",
     "text": [
      "2606/2606 [==============================] - 57s 22ms/step - loss: 0.1383 - accuracy: 0.9315\n",
      "2606/2606 [==============================] - 67s 25ms/step\n",
      "CNN Model Evaluation:\n",
      "Loss: 0.1383\n",
      "Accuracy: 0.9315\n",
      "Precision: 0.9335\n",
      "Recall: 0.9315\n",
      "F1-Score: 0.9296\n",
      "\n",
      "Classification Report:\n",
      "               precision    recall  f1-score   support\n",
      "\n",
      "       anger       0.97      0.90      0.93     11339\n",
      "        fear       0.85      0.93      0.89      9376\n",
      "         joy       0.92      0.99      0.95     28247\n",
      "        love       0.98      0.70      0.82      6853\n",
      "     sadness       0.96      0.98      0.97     24504\n",
      "    surprise       0.85      0.71      0.77      3043\n",
      "\n",
      "    accuracy                           0.93     83362\n",
      "   macro avg       0.92      0.87      0.89     83362\n",
      "weighted avg       0.93      0.93      0.93     83362\n",
      "\n"
     ]
    }
   ],
   "source": [
    "# Tokenize and preprocess test data to match the input shape used during training\n",
    "tokenizer_cnn = Tokenizer()\n",
    "tokenizer_cnn.fit_on_texts(X_train)\n",
    "X_test_sequences_cnn = tokenizer_cnn.texts_to_sequences(X_test)\n",
    "X_test_padded_cnn = pad_sequences(X_test_sequences_cnn, maxlen=X_train_padded_cnn.shape[1], padding='post')\n",
    "\n",
    "# Evaluate the CNN model on the test dataset\n",
    "cnn_scores = cnn_model.evaluate(X_test_padded_cnn, y_test)\n",
    "\n",
    "# Extract metrics\n",
    "cnn_loss = cnn_scores[0]\n",
    "cnn_accuracy = cnn_scores[1]\n",
    "\n",
    "# Make predictions on the test dataset\n",
    "y_pred_cnn = cnn_model.predict(X_test_padded_cnn)\n",
    "y_pred_cnn_classes = np.argmax(y_pred_cnn, axis=1)\n",
    "\n",
    "# Calculate precision, recall, and F1-score using scikit-learn\n",
    "from sklearn.metrics import accuracy_score, precision_score, recall_score, f1_score, classification_report\n",
    "\n",
    "precision_cnn = precision_score(y_test, y_pred_cnn_classes, average='weighted')\n",
    "recall_cnn = recall_score(y_test, y_pred_cnn_classes, average='weighted')\n",
    "f1_cnn = f1_score(y_test, y_pred_cnn_classes, average='weighted')\n",
    "\n",
    "# Print evaluation metrics\n",
    "print(\"CNN Model Evaluation:\")\n",
    "print(f\"Loss: {cnn_loss:.4f}\")\n",
    "print(f\"Accuracy: {cnn_accuracy:.4f}\")\n",
    "print(f\"Precision: {precision_cnn:.4f}\")\n",
    "print(f\"Recall: {recall_cnn:.4f}\")\n",
    "print(f\"F1-Score: {f1_cnn:.4f}\")\n",
    "\n",
    "# Detailed classification report\n",
    "report = classification_report(y_test, y_pred_cnn_classes, target_names=emotions)\n",
    "print(\"\\nClassification Report:\\n\", report)\n"
   ]
  }
 ],
 "metadata": {
  "kernelspec": {
   "display_name": "base",
   "language": "python",
   "name": "python3"
  },
  "language_info": {
   "codemirror_mode": {
    "name": "ipython",
    "version": 3
   },
   "file_extension": ".py",
   "mimetype": "text/x-python",
   "name": "python",
   "nbconvert_exporter": "python",
   "pygments_lexer": "ipython3",
   "version": "3.11.5"
  }
 },
 "nbformat": 4,
 "nbformat_minor": 2
}
